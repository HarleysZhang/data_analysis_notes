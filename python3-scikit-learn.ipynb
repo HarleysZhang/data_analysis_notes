{
 "cells": [
  {
   "cell_type": "code",
   "execution_count": 11,
   "metadata": {},
   "outputs": [
    {
     "name": "stdout",
     "output_type": "stream",
     "text": [
      "[2 0 2 1 2 2 1 0 0 0 0 1 1 2 0 2 0 2 1 0 1 2 2 1 0 1 0 0 2 2 0 1 1 1 1 0 2\n",
      " 1 2 0 1 0 0 2 0 2 2 2 0 1 2 1 1 0 2 1 2 1 2 1]\n",
      "[2 0 2 1 2 2 1 0 0 0 0 2 1 2 0 2 0 2 1 0 1 2 2 1 0 1 0 0 2 2 0 1 1 1 1 0 2\n",
      " 1 2 0 1 0 0 2 0 2 2 2 0 1 2 1 1 0 2 1 2 2 2 1]\n"
     ]
    }
   ],
   "source": [
    "#导入模块\n",
    "from sklearn import datasets\n",
    "from sklearn.model_selection import train_test_split\n",
    "from sklearn.neighbors import KNeighborsClassifier\n",
    "#创建数据\n",
    "iris = datasets.load_iris()\n",
    "iris_X = iris.data\n",
    "iris_y = iris.target\n",
    "#print(iris_X[:2:])\n",
    "#print(iris_y)\n",
    "X_train, X_test, y_train, y_test = train_test_split(iris_X, iris_y, test_size=0.4)\n",
    "#print(y_train)\n",
    "#建立模型，训练，预测\n",
    "knn = KNeighborsClassifier()\n",
    "knn.fit(X_train, y_train)\n",
    "print(knn.predict(X_test))\n",
    "print(y_test)"
   ]
  },
  {
   "cell_type": "code",
   "execution_count": 5,
   "metadata": {},
   "outputs": [
    {
     "name": "stdout",
     "output_type": "stream",
     "text": [
      "[[5.1 3.5 1.4 0.2]\n",
      " [4.9 3.  1.4 0.2]]\n"
     ]
    }
   ],
   "source": [
    "#调用模块\n",
    "from sklearn.datasets import load_iris\n",
    "load_data = load_iris()\n",
    "#导入数据何标签\n",
    "data_x = load_data.data\n",
    "data_y = load_data.target\n",
    "print(iris_X[0:2])"
   ]
  },
  {
   "cell_type": "code",
   "execution_count": 8,
   "metadata": {},
   "outputs": [
    {
     "name": "stdout",
     "output_type": "stream",
     "text": [
      "[0 1 0 2 1 1 1 0 1 0 2 1 0 2 1 0 0 2 1 2 1 2 2 2 2 2 1 0 1 1 2 1 2 1 0 0 1\n",
      " 2 1 0 1 2 2 0 1]\n",
      "[0 1 0 2 1 1 2 0 1 0 2 1 0 2 1 0 0 2 1 2 2 2 2 2 2 2 1 0 1 1 2 1 2 1 0 0 1\n",
      " 2 1 0 1 2 2 0 1]\n"
     ]
    }
   ],
   "source": [
    "#鸢尾花数据集训练并测试，首先导入模块\n",
    "from sklearn.model_selection import train_test_split\n",
    "from sklearn import datasets\n",
    "#k近邻函数\n",
    "from sklearn.neighbors import KNeighborsClassifier\n",
    "iris = datasets.load_iris()\n",
    "#导入数据和标签\n",
    "iris_X = iris.data\n",
    "iris_y = iris.target\n",
    "#划分为训练集和测试集数据\n",
    "X_train, X_test, y_train, y_test = train_test_split(iris_X, iris_y, test_size=0.3)\n",
    "#print(y_train)\n",
    "#设置knn分类器\n",
    "knn = KNeighborsClassifier()\n",
    "#进行训练\n",
    "knn.fit(X_train,y_train)\n",
    "#使用训练好的knn进行数据预测\n",
    "print(knn.predict(X_test))\n",
    "print(y_test) "
   ]
  },
  {
   "cell_type": "code",
   "execution_count": 27,
   "metadata": {},
   "outputs": [
    {
     "name": "stdout",
     "output_type": "stream",
     "text": [
      "GaussianNB(priors=None)\n",
      "             precision    recall  f1-score   support\n",
      "\n",
      "          0       1.00      1.00      1.00        50\n",
      "          1       0.94      0.94      0.94        50\n",
      "          2       0.94      0.94      0.94        50\n",
      "\n",
      "avg / total       0.96      0.96      0.96       150\n",
      "\n",
      "[[50  0  0]\n",
      " [ 0 47  3]\n",
      " [ 0  3 47]]\n"
     ]
    }
   ],
   "source": [
    "#鸢尾花数据集训练并测试,首先导入模块\n",
    "from sklearn.model_selection import train_test_split\n",
    "from sklearn import datasets\n",
    "from sklearn import metrics\n",
    "#调用朴素贝叶斯函数\n",
    "from sklearn.naive_bayes import GaussianNB\n",
    "iris = datasets.load_iris()\n",
    "#导入数据和标签\n",
    "iris_x = iris.data\n",
    "iris_y = iris.target\n",
    "# fit a k-nearest neighbor model to the data\n",
    "model = GaussianNB()\n",
    "#Training data,derived parameters\n",
    "model.fit(iris_x, iris_y)\n",
    "print(model)\n",
    "# make predictions\n",
    "expected = iris_y\n",
    "predicted = model.predict(iris_x)\n",
    "# summarize the fit of the model\n",
    "print(metrics.classification_report(expected, predicted))\n",
    "print(metrics.confusion_matrix(expected, predicted))"
   ]
  },
  {
   "cell_type": "code",
   "execution_count": 25,
   "metadata": {},
   "outputs": [
    {
     "name": "stdout",
     "output_type": "stream",
     "text": [
      "[19.36145104 20.42467417 13.59903744 30.76568546]\n",
      "[17.1 20.  13.1 28.4]\n"
     ]
    }
   ],
   "source": [
    "#波士顿房价数据集训练并测试,首先，我们调用模块\n",
    "#matplotlib是python专门用于画图的库\n",
    "import matplotlib.pyplot as plt\n",
    "from sklearn import datasets\n",
    "#调用线性回归函数\n",
    "from sklearn.linear_model import LinearRegression\n",
    "\n",
    "#导入数据集\n",
    "#这里将全部数据用于训练，并没有对数据进行划分，上例中\n",
    "#将数据划分为训练和测试数据，后面会讲到交叉验证\n",
    "loaded_data = datasets.load_boston()\n",
    "data_x = loaded_data.data\n",
    "data_y = loaded_data.target\n",
    "#划分为训练集和测试集数据\n",
    "X_train, X_test, y_train, y_test = train_test_split(data_X, data_y, test_size=0.3)\n",
    "#设置线性回归模块\n",
    "model = LinearRegression()\n",
    "#训练数据，得出参数\n",
    "model.fit(data_X, data_y)\n",
    "\n",
    "#利用模型，对新数据，进行预测，与原标签进行比较\n",
    "print(model.predict(X_test[0:4]))\n",
    "print(y_test[:4]) "
   ]
  },
  {
   "cell_type": "code",
   "execution_count": 29,
   "metadata": {},
   "outputs": [
    {
     "name": "stdout",
     "output_type": "stream",
     "text": [
      "[30.00821269 25.0298606  30.5702317  28.60814055]\n",
      "[24.  21.6 34.7 33.4]\n"
     ]
    },
    {
     "data": {
      "image/png": "[encoded data removed]",
      "text/plain": [
       "<matplotlib.figure.Figure at 0x1b094c79c88>"
      ]
     },
     "metadata": {},
     "output_type": "display_data"
    }
   ],
   "source": [
    "#coding:utf-8\n",
    "#filename:sk5_datasets.py\n",
    "#sklearn数据库,创建数据库\n",
    "\"\"\"\n",
    "Please note, this code is only for python 3+. If you are using python 2+, please modify the code accordingly.\n",
    "\"\"\"\n",
    "from __future__ import print_function\n",
    "from sklearn import datasets\n",
    "from sklearn.linear_model import LinearRegression\n",
    "import matplotlib.pyplot as plt\n",
    "\n",
    "loaded_data = datasets.load_boston()\n",
    "data_X = loaded_data.data\n",
    "data_y = loaded_data.target\n",
    "\n",
    "model = LinearRegression()\n",
    "model.fit(data_X, data_y)\n",
    "\n",
    "print(model.predict(data_X[:4, :]))\n",
    "print(data_y[:4])\n",
    "#Generate a random regression problem\n",
    "#noise : float, optional (default=0.0),The standard deviation of the gaussian noise applied to the output.\n",
    "X, y = datasets.make_regression(n_samples=100, n_features=1, n_targets=1, noise=3)\n",
    "plt.scatter(X, y)\n",
    "plt.show()"
   ]
  },
  {
   "cell_type": "code",
   "execution_count": 30,
   "metadata": {},
   "outputs": [
    {
     "name": "stdout",
     "output_type": "stream",
     "text": [
      "[30.00821269 25.0298606  30.5702317  28.60814055]\n",
      "[-1.07170557e-01  4.63952195e-02  2.08602395e-02  2.68856140e+00\n",
      " -1.77957587e+01  3.80475246e+00  7.51061703e-04 -1.47575880e+00\n",
      "  3.05655038e-01 -1.23293463e-02 -9.53463555e-01  9.39251272e-03\n",
      " -5.25466633e-01]\n",
      "36.491103280363134\n",
      "{'copy_X': True, 'fit_intercept': True, 'n_jobs': 1, 'normalize': False}\n",
      "0.7406077428649428\n"
     ]
    }
   ],
   "source": [
    "#coding:utf-8\n",
    "#filename:sk6_model_attribute_method.py\n",
    "#学习model常用属性和功能\n",
    "\n",
    "#导入模块,数据库,模型\n",
    "from __future__ import print_function\n",
    "import numpy as np\n",
    "from sklearn import datasets\n",
    "from sklearn.linear_model import LinearRegression\n",
    "\n",
    "#加载数据\n",
    "loaded_data = datasets.load_boston()\n",
    "data_X = loaded_data.data\n",
    "data_y = loaded_data.target\n",
    "\n",
    "#设置线性回归模型,训练数据\n",
    "model = LinearRegression()\n",
    "model.fit(data_X,data_y)\n",
    "\n",
    "#输出预测数据及模型数据\n",
    "print(model.predict(data_X[:4,:]))\n",
    "print(model.coef_)\n",
    "print(model.intercept_)\n",
    "print(model.get_params())\n",
    "print(model.score(data_X,data_y))"
   ]
  },
  {
   "cell_type": "code",
   "execution_count": 31,
   "metadata": {},
   "outputs": [
    {
     "name": "stdout",
     "output_type": "stream",
     "text": [
      "[[ 0.         -0.85170713 -0.55138018]\n",
      " [-1.22474487 -0.55187146 -0.852133  ]\n",
      " [ 1.22474487  1.40357859  1.40351318]]\n"
     ]
    }
   ],
   "source": [
    "#正则化Normalization\n",
    "from sklearn import preprocessing #标准化数据模块\n",
    "import numpy as np\n",
    "\n",
    "#建立Array\n",
    "a = np.array([[10, 2.7, 3.6],\n",
    "              [-100, 5, -2],\n",
    "              [120, 20, 40]], dtype=np.float64)\n",
    "\n",
    "#将normalized后的a打印出\n",
    "print(preprocessing.scale(a))\n",
    "# [[ 0.         -0.85170713 -0.55138018]\n",
    "#  [-1.22474487 -0.55187146 -0.852133  ]\n",
    "#  [ 1.22474487  1.40357859  1.40351318]]"
   ]
  },
  {
   "cell_type": "code",
   "execution_count": 34,
   "metadata": {},
   "outputs": [
    {
     "name": "stdout",
     "output_type": "stream",
     "text": [
      "[[  10.     2.7    3.6]\n",
      " [-100.     5.    -2. ]\n",
      " [ 120.    20.    40. ]]\n",
      "[[ 0.         -0.85170713 -0.55138018]\n",
      " [-1.22474487 -0.55187146 -0.852133  ]\n",
      " [ 1.22474487  1.40357859  1.40351318]]\n"
     ]
    },
    {
     "data": {
      "image/png": "[encoded data removed]",
      "text/plain": [
       "<matplotlib.figure.Figure at 0x1b094e05ef0>"
      ]
     },
     "metadata": {},
     "output_type": "display_data"
    },
    {
     "name": "stdout",
     "output_type": "stream",
     "text": [
      "0.9388888888888889\n"
     ]
    }
   ],
   "source": [
    "#正则化Normalization\n",
    "from __future__ import print_function\n",
    "from sklearn import preprocessing\n",
    "import numpy as np\n",
    "from sklearn.model_selection import train_test_split\n",
    "from sklearn.datasets.samples_generator import make_classification\n",
    "from sklearn.svm import SVC\n",
    "import matplotlib.pyplot as plt\n",
    "\n",
    "a = np.array([[10, 2.7, 3.6],\n",
    "                     [-100, 5, -2],\n",
    "                     [120, 20, 40]], dtype=np.float64)\n",
    "print(a)\n",
    "print(preprocessing.scale(a))\n",
    "\n",
    "X, y = make_classification(n_samples=300, n_features=2 , n_redundant=0, n_informative=2,\n",
    "                           random_state=22, n_clusters_per_class=1, scale=100)\n",
    "plt.scatter(X[:, 0], X[:, 1], c=y)\n",
    "plt.show()\n",
    "X = preprocessing.scale(X)    # normalization step\n",
    "X_train, X_test, y_train, y_test = train_test_split(X, y, test_size=.6)\n",
    "clf = SVC()\n",
    "clf.fit(X_train, y_train)\n",
    "print(clf.score(X_test, y_test))"
   ]
  },
  {
   "cell_type": "markdown",
   "metadata": {},
   "source": [
    "# "
   ]
  }
 ],
 "metadata": {
  "kernelspec": {
   "display_name": "Python 3.9.7 ('base')",
   "language": "python",
   "name": "python3"
  },
  "language_info": {
   "codemirror_mode": {
    "name": "ipython",
    "version": 3
   },
   "file_extension": ".py",
   "mimetype": "text/x-python",
   "name": "python",
   "nbconvert_exporter": "python",
   "pygments_lexer": "ipython3",
   "version": "3.9.7"
  },
  "vscode": {
   "interpreter": {
    "hash": "40d3a090f54c6569ab1632332b64b2c03c39dcf918b08424e98f38b5ae0af88f"
   }
  }
 },
 "nbformat": 4,
 "nbformat_minor": 2
}
