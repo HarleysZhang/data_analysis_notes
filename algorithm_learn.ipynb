{
 "cells": [
  {
   "cell_type": "markdown",
   "metadata": {},
   "source": [
    "## 算法图解学习笔记及实例编写 "
   ]
  },
  {
   "cell_type": "markdown",
   "metadata": {},
   "source": [
    "### 二分法查找算法"
   ]
  },
  {
   "cell_type": "code",
   "execution_count": 1,
   "metadata": {
    "tags": []
   },
   "outputs": [
    {
     "output_type": "stream",
     "name": "stdout",
     "text": "9\nNone\n"
    }
   ],
   "source": [
    "def binary_search(list, item):\n",
    "    low = 0\n",
    "    high = len(list)-1\n",
    "    \n",
    "    # While you haven't narrowed it down to one element\n",
    "    while low<=high:\n",
    "        # Check the middle element\n",
    "        mid = (low + high) // 2\n",
    "        guess = list[mid]\n",
    "        # Found the item\n",
    "        if item == guess:\n",
    "            return mid\n",
    "        # The item was too high\n",
    "        if item < guess:\n",
    "            high = mid - 1\n",
    "        # The item was too low\n",
    "        else:\n",
    "            low = mid + 1\n",
    "        # Item doesn't exist\n",
    "    return None\n",
    "    \n",
    "my_list = [1, 3, 5, 7, 9, 11, 14, 15, 17, 21]\n",
    "print(binary_search(my_list, 21)) # => 5\n",
    "# 'None' means nil in Python. We use to indicate that the item wasn't found.\n",
    "print(binary_search(my_list, -1)) # => None"
   ]
  },
  {
   "cell_type": "code",
   "execution_count": 5,
   "metadata": {
    "tags": []
   },
   "outputs": [
    {
     "output_type": "stream",
     "name": "stdout",
     "text": "[-314515440        368] (2,)\n[[-314515440        368]\n [         0          0]\n [         1 1329802813]]\n"
    }
   ],
   "source": [
    "import numpy as np \n",
    "x = np.empty([3,2], dtype = int) \n",
    "y = x[0];print(y, y.shape)\n",
    "print (x)"
   ]
  },
  {
   "cell_type": "markdown",
   "metadata": {},
   "source": [
    "### 选择排序"
   ]
  },
  {
   "cell_type": "code",
   "execution_count": 10,
   "metadata": {},
   "outputs": [
    {
     "name": "stdout",
     "output_type": "stream",
     "text": [
      "[3, 5, 6, 100]\n"
     ]
    }
   ],
   "source": [
    "def findSmallest(arr):\n",
    "    smallest = arr[0]    # 存储最小的值\n",
    "    smallest_index = 0   # 存储最小元素的索引\n",
    "    for i in range(1, len(arr)):\n",
    "        if arr[i] < smallest:\n",
    "            smallest_index = i\n",
    "            smallest = arr[i]\n",
    "    return smallest\n",
    "# 选择排序法对数组进行排序\n",
    "def selectionSort(arr):\n",
    "    newArr = []\n",
    "    for i in range(len(arr)):\n",
    "        smallest = findSmallest(arr)\n",
    "        arr.remove(smallest)\n",
    "        newArr.append(smallest)\n",
    "    return newArr\n",
    "# 实例应用\n",
    "print(selectionSort([5, 3, 6, 100]))"
   ]
  },
  {
   "cell_type": "markdown",
   "metadata": {},
   "source": [
    "### 递归算法实例"
   ]
  },
  {
   "cell_type": "code",
   "execution_count": 23,
   "metadata": {},
   "outputs": [
    {
     "data": {
      "text/plain": [
       "1016"
      ]
     },
     "execution_count": 23,
     "metadata": {},
     "output_type": "execute_result"
    }
   ],
   "source": [
    "# 编写递归方法求数组元素和\n",
    "a_list = [3, 6, 20, 982, 4 ,1]\n",
    "def sum(arr):\n",
    "    if len(arr) == 0: # 基线条件\n",
    "        return 0\n",
    "    else:             # 递归条件\n",
    "        return arr[0] + sum(arr[1:])\n",
    "\n",
    "sum(a_list)"
   ]
  },
  {
   "cell_type": "code",
   "execution_count": 26,
   "metadata": {},
   "outputs": [
    {
     "data": {
      "text/plain": [
       "6"
      ]
     },
     "execution_count": 26,
     "metadata": {},
     "output_type": "execute_result"
    }
   ],
   "source": [
    "# 递归方法计算列表包含的元素数\n",
    "def count(list):\n",
    "    if list == []:\n",
    "        return 0\n",
    "    else:\n",
    "        return 1 + count(list[1:])\n",
    "a_list = [3, 6, 20, 982, 4 ,1]\n",
    "count(a_list)"
   ]
  },
  {
   "cell_type": "code",
   "execution_count": 25,
   "metadata": {},
   "outputs": [
    {
     "data": {
      "text/plain": [
       "982"
      ]
     },
     "execution_count": 25,
     "metadata": {},
     "output_type": "execute_result"
    }
   ],
   "source": [
    "# 递归方法找出列表中最大的数字\n",
    "def max_(lst):\n",
    "    if len(lst) == 0:\n",
    "        return None\n",
    "    if len(lst) == 1:\n",
    "        return lst[0]\n",
    "    else:\n",
    "        sub_max = max_(lst[1:])\n",
    "        if lst[0] > sub_max:\n",
    "            return lst[0]\n",
    "        else:\n",
    "            return sub_max\n",
    "a_list = [3, 6, 20, 982, 4 ,1]\n",
    "max_(a_list)"
   ]
  },
  {
   "cell_type": "markdown",
   "metadata": {},
   "source": [
    "### 快速排序"
   ]
  },
  {
   "cell_type": "code",
   "execution_count": 29,
   "metadata": {},
   "outputs": [
    {
     "name": "stdout",
     "output_type": "stream",
     "text": [
      "[0, 2, 4, 12, 17, 79, 90]\n"
     ]
    }
   ],
   "source": [
    "# 快速排序算法\n",
    "def quicksort(array):\n",
    "    if len(array) < 2: \n",
    "        # 基线条件：为空或只包含一个元素的数组是“有序”的\n",
    "        return array\n",
    "    else:\n",
    "        # 递归条件\n",
    "        pivot = array[0] \n",
    "        less = [x for x in array[1:] if x <= pivot]\n",
    "        greater = [x for x in array[1:] if x > pivot]\n",
    "        return quicksort(less) + [pivot] + quicksort(greater)\n",
    "print(quicksort([4, 90, 0, 2, 17, 79, 12]))"
   ]
  },
  {
   "cell_type": "code",
   "execution_count": 15,
   "metadata": {},
   "outputs": [
    {
     "name": "stdout",
     "output_type": "stream",
     "text": [
      "10\n",
      "9\n",
      "8\n",
      "7\n",
      "6\n",
      "5\n",
      "4\n",
      "3\n",
      "2\n",
      "1\n",
      "0\n"
     ]
    }
   ],
   "source": [
    "def countdown(i):\n",
    "    print(i)\n",
    "    if i <= 0:\n",
    "        return \n",
    "    else:\n",
    "        countdown(i-1)\n",
    "countdown(10)"
   ]
  },
  {
   "cell_type": "markdown",
   "metadata": {},
   "source": [
    "### 广度优先算法 "
   ]
  },
  {
   "cell_type": "code",
   "execution_count": 1,
   "metadata": {},
   "outputs": [
    {
     "name": "stdout",
     "output_type": "stream",
     "text": [
      "thom is a mango seller!\n"
     ]
    },
    {
     "data": {
      "text/plain": [
       "True"
      ]
     },
     "execution_count": 1,
     "metadata": {},
     "output_type": "execute_result"
    }
   ],
   "source": [
    "# 使用了队列的先进先出结构\n",
    "from collections import deque\n",
    "\n",
    "def person_is_seller(name):\n",
    "      return name[-1] == 'm'\n",
    "\n",
    "graph = {}\n",
    "graph[\"you\"] = [\"alice\", \"bob\", \"claire\"]\n",
    "graph[\"bob\"] = [\"anuj\", \"peggy\"]\n",
    "graph[\"alice\"] = [\"peggy\"]\n",
    "graph[\"claire\"] = [\"thom\", \"jonny\"]\n",
    "graph[\"anuj\"] = []\n",
    "graph[\"peggy\"] = []\n",
    "graph[\"thom\"] = []\n",
    "graph[\"jonny\"] = []\n",
    "\n",
    "def search(name):\n",
    "    search_queue = deque()\n",
    "    search_queue += graph[name]\n",
    "    # This array is how you keep track of which people you've searched before.\n",
    "    searched = []\n",
    "    while search_queue:\n",
    "        person = search_queue.popleft()\n",
    "        # Only search this person if you haven't already searched them.\n",
    "        if person not in searched:\n",
    "            if person_is_seller(person):\n",
    "                print(person + \" is a mango seller!\")\n",
    "                return True\n",
    "            else:\n",
    "                search_queue += graph[person]\n",
    "                # Marks this person as searched\n",
    "                searched.append(person)\n",
    "    return False\n",
    "\n",
    "search(\"you\") # thom is a mango seller! True\n"
   ]
  },
  {
   "cell_type": "markdown",
   "metadata": {
    "collapsed": true
   },
   "source": [
    "## 狄克斯特拉算法"
   ]
  },
  {
   "cell_type": "code",
   "execution_count": null,
   "metadata": {
    "collapsed": true
   },
   "outputs": [],
   "source": []
  }
 ],
 "metadata": {
  "kernelspec": {
   "display_name": "Python 3",
   "language": "python",
   "name": "python3"
  },
  "language_info": {
   "codemirror_mode": {
    "name": "ipython",
    "version": 3
   },
   "file_extension": ".py",
   "mimetype": "text/x-python",
   "name": "python",
   "nbconvert_exporter": "python",
   "pygments_lexer": "ipython3",
   "version": "3.6.8"
  }
 },
 "nbformat": 4,
 "nbformat_minor": 2
}